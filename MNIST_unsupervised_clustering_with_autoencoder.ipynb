{
  "nbformat": 4,
  "nbformat_minor": 0,
  "metadata": {
    "colab": {
      "name": "MNIST_unsupervised_clustering_with_autoencoder.ipynb",
      "provenance": [],
      "collapsed_sections": [
        "ED4klegJEwop",
        "RkG4e2grPorV",
        "McsE4dsFP8Ma",
        "-Ijm5F85RIQE",
        "iON92qlflYbW"
      ]
    },
    "kernelspec": {
      "name": "python3",
      "display_name": "Python 3"
    },
    "accelerator": "GPU"
  },
  "cells": [
    {
      "cell_type": "markdown",
      "metadata": {
        "id": "Z9Ulu4RLJ3zc"
      },
      "source": [
        "# Метрика точности кластеризации"
      ]
    },
    {
      "cell_type": "code",
      "metadata": {
        "id": "_Txk3OPCEwV8"
      },
      "source": [
        "import numpy as np\n",
        "from sklearn.metrics import normalized_mutual_info_score, adjusted_rand_score\n",
        "from sklearn.utils.linear_assignment_ import linear_assignment\n",
        "\n",
        "\n",
        "nmi = normalized_mutual_info_score\n",
        "ari = adjusted_rand_score\n",
        "\n",
        "\n",
        "def acc(y_true, y_pred):\n",
        "    \"\"\"\n",
        "    Вычисляет точность кластеризации.\n",
        "    # Arguments\n",
        "        y_true: истинные метки, np.array с shape = (n_samples,)\n",
        "        y_pred: предсказанные метки, np.array с shape = (n_samples,)\n",
        "    # Return\n",
        "        accuracy в отрезке [0,1]\n",
        "    \"\"\"\n",
        "    y_true = y_true.astype(np.int64)\n",
        "    assert y_pred.size == y_true.size\n",
        "    D = max(y_pred.max(), y_true.max()) + 1\n",
        "    w = np.zeros((D, D), dtype=np.int64)\n",
        "    for i in range(y_pred.size):\n",
        "        w[y_pred[i], y_true[i]] += 1\n",
        "    ind = linear_assignment(w.max() - w)\n",
        "    return sum([w[i, j] for i, j in ind]) * 1.0 / y_pred.size"
      ],
      "execution_count": 35,
      "outputs": []
    },
    {
      "cell_type": "markdown",
      "metadata": {
        "id": "ED4klegJEwop"
      },
      "source": [
        "# Базовый алгоритм кластеризации K-Means (unsupervised)\n",
        "Традиционный алгоритм K-средних быстр и применим к широкому кругу задач. Однако их метрики расстояния ограничены исходным пространством данных, и они, как правило, неэффективны, когда входная размерность высока, например, как у изображений.\n",
        "\n",
        "Давайте обучим модель K-средних для кластеризации рукописных цифр MNIST в 10 кластеров."
      ]
    },
    {
      "cell_type": "code",
      "metadata": {
        "id": "AbJmc5xCFiYr",
        "outputId": "575efe7b-4b21-403d-83ec-c49ad2d09d39",
        "colab": {
          "base_uri": "https://localhost:8080/"
        }
      },
      "source": [
        "import numpy as np\n",
        "from sklearn.cluster import KMeans\n",
        "from keras.datasets import mnist\n",
        "\n",
        "(x_train, y_train), (x_test, y_test) = mnist.load_data()\n",
        "x = np.concatenate((x_train, x_test))\n",
        "y = np.concatenate((y_train, y_test))\n",
        "x = x.reshape((x.shape[0], -1))\n",
        "x = np.divide(x, 255.) # нормализуем в [0, 1]\n",
        "n_clusters = len(np.unique(y)) # 10 кластеров\n",
        "# Запускаем параллельно 2 CPUs\n",
        "# n_init - число выборов различных центроиды, в итоге - лучший выбор\n",
        "kmeans = KMeans(n_clusters=n_clusters, n_init=20, n_jobs=2) \n",
        "# Тренировка K-Means.\n",
        "y_pred_kmeans = kmeans.fit_predict(x)\n",
        "# Вычисляем K-Means accuracy кластеризации.\n",
        "print(acc(y, y_pred_kmeans))"
      ],
      "execution_count": 2,
      "outputs": [
        {
          "output_type": "stream",
          "text": [
            "Downloading data from https://storage.googleapis.com/tensorflow/tf-keras-datasets/mnist.npz\n",
            "11493376/11490434 [==============================] - 0s 0us/step\n",
            "0.5332428571428571\n"
          ],
          "name": "stdout"
        },
        {
          "output_type": "stream",
          "text": [
            "/usr/local/lib/python3.6/dist-packages/sklearn/utils/linear_assignment_.py:128: FutureWarning: The linear_assignment function is deprecated in 0.21 and will be removed from 0.23. Use scipy.optimize.linear_sum_assignment instead.\n",
            "  FutureWarning)\n"
          ],
          "name": "stderr"
        }
      ]
    },
    {
      "cell_type": "markdown",
      "metadata": {
        "id": "Clvaotr4KOZR"
      },
      "source": [
        "Оценка точности кластеризации K-средних составляет  **53,2%**."
      ]
    },
    {
      "cell_type": "markdown",
      "metadata": {
        "id": "iGlxJwP598tj"
      },
      "source": [
        "# Unsupervised Clustering with Autoncoder on Keras\n",
        "[Статья первоисточник](https://www.dlology.com/blog/how-to-do-unsupervised-clustering-with-keras/)"
      ]
    },
    {
      "cell_type": "markdown",
      "metadata": {
        "id": "0z06Yayq_7Ca"
      },
      "source": [
        "## Импорт необходимых библиотек"
      ]
    },
    {
      "cell_type": "code",
      "metadata": {
        "id": "xExdUEgK97Vt"
      },
      "source": [
        "from keras.datasets import mnist\n",
        "import numpy as np\n",
        "from time import time\n",
        "import keras.backend as K\n",
        "from keras.engine.topology import Layer, InputSpec\n",
        "from keras.layers import Dense, Input\n",
        "from keras.models import Model\n",
        "from keras.optimizers import SGD\n",
        "from keras import callbacks\n",
        "from keras.initializers import VarianceScaling\n",
        "from sklearn.cluster import KMeans"
      ],
      "execution_count": 36,
      "outputs": []
    },
    {
      "cell_type": "markdown",
      "metadata": {
        "id": "zixR4SrgELqg"
      },
      "source": [
        "## Модель Автоэкодера"
      ]
    },
    {
      "cell_type": "code",
      "metadata": {
        "id": "nrUDSE-w9z-f"
      },
      "source": [
        "def autoencoder(dims, act='relu', init='glorot_uniform'):\n",
        "    \"\"\"\n",
        "    Полносвязная симметричная модель autoencoder.\n",
        "    Arguments:\n",
        "        dims: список количеств нейроннов на каждом слое энкодера. dims[0] = это\n",
        "              разменрность input, dims[-1] размерность скрытого слоя.\n",
        "              Декодер симметричен энкодеру. Поэтому число слоев autoencoder\n",
        "              равно 2*len(dims)-1 (-1 так как один скрытый слой). \n",
        "        act: activation, не применяется к Input, Hidden и Output layers.\n",
        "        init: начальная инициализация весов\n",
        "    return:\n",
        "        (ae_model, encoder_model), Модель autoencoder и модель encoder.\n",
        "    \"\"\"\n",
        "    n_stacks = len(dims) - 1\n",
        "    # Input слой\n",
        "    input_img = Input(shape=(dims[0],), name='input')\n",
        "    x = input_img\n",
        "    # внутренние слои encoder\n",
        "    for i in range(n_stacks - 1):\n",
        "        x = Dense(dims[i + 1], activation=act, kernel_initializer=init, \n",
        "                  name='encoder_{}'.format(i))(x)\n",
        "\n",
        "    # скрытый слой - признаки извлекаются из него\n",
        "    encoded = Dense(dims[-1], kernel_initializer=init,\n",
        "                    name='encoder_{}'.format((n_stacks - 1)))(x)\n",
        "\n",
        "    x = encoded\n",
        "    # внутренние слои decoder\n",
        "    for i in range(n_stacks - 1, 0, -1):\n",
        "        x = Dense(dims[i], activation=act, kernel_initializer=init,\n",
        "                  name='decoder_{}'.format(i))(x)\n",
        "\n",
        "    # Output слой\n",
        "    x = Dense(dims[0], kernel_initializer=init, name='decoder_0')(x)\n",
        "    decoded = x\n",
        "    return Model(inputs=input_img, outputs=decoded, name='AE'), \\\n",
        "           Model(inputs=input_img, outputs=encoded, name='encoder')"
      ],
      "execution_count": 37,
      "outputs": []
    },
    {
      "cell_type": "markdown",
      "metadata": {
        "id": "lJcfSHE0NdUa"
      },
      "source": [
        "### Задание гиперпараметров"
      ]
    },
    {
      "cell_type": "code",
      "metadata": {
        "id": "odKsiZVC-1LS"
      },
      "source": [
        "(x_train, y_train), (x_test, y_test) = mnist.load_data()\n",
        "\n",
        "x = np.concatenate((x_train, x_test))\n",
        "y = np.concatenate((y_train, y_test))\n",
        "x = x.reshape((x.shape[0], -1))\n",
        "x = np.divide(x, 255.)\n",
        "n_clusters = len(np.unique(y))\n",
        "x.shape\n",
        "\n",
        "dims = [x.shape[-1], 500, 500, 2000, 10]\n",
        "# VarianceScaling - инициализатор, способный адаптировать свой shape к\n",
        "#                   весам тензора.\n",
        "init = VarianceScaling(scale=1. / 3., mode='fan_in',\n",
        "                           distribution='uniform')\n",
        "pretrain_optimizer = SGD(lr=1, momentum=0.9)\n",
        "pretrain_epochs = 300\n",
        "batch_size = 256\n",
        "save_dir = './'"
      ],
      "execution_count": 38,
      "outputs": []
    },
    {
      "cell_type": "code",
      "metadata": {
        "id": "3aJbY_N9N95C"
      },
      "source": [
        "autoencoder, encoder = autoencoder(dims, init=init)"
      ],
      "execution_count": 39,
      "outputs": []
    },
    {
      "cell_type": "markdown",
      "metadata": {
        "id": "RkG4e2grPorV"
      },
      "source": [
        "### Рисуем архитектуру Автоэнкодера"
      ]
    },
    {
      "cell_type": "code",
      "metadata": {
        "id": "oIOTsldyPVth",
        "outputId": "2f8e7003-e82f-495e-8e87-7ac0db7b85e8",
        "colab": {
          "base_uri": "https://localhost:8080/",
          "height": 976
        }
      },
      "source": [
        "from keras.utils import plot_model\n",
        "plot_model(autoencoder, to_file='autoencoder.png', show_shapes=True)\n",
        "from IPython.display import Image\n",
        "Image(filename='autoencoder.png')"
      ],
      "execution_count": 9,
      "outputs": [
        {
          "output_type": "execute_result",
          "data": {
            "image/png": "[encoded data removed]",
            "text/plain": [
              "<IPython.core.display.Image object>"
            ]
          },
          "metadata": {
            "tags": []
          },
          "execution_count": 9
        }
      ]
    },
    {
      "cell_type": "code",
      "metadata": {
        "id": "Bc56lHpmPYQa",
        "outputId": "24d2eff5-763f-42c7-a735-d0f7b48bbe13",
        "colab": {
          "base_uri": "https://localhost:8080/",
          "height": 533
        }
      },
      "source": [
        "from keras.utils import plot_model\n",
        "plot_model(encoder, to_file='encoder.png', show_shapes=True)\n",
        "from IPython.display import Image\n",
        "Image(filename='encoder.png') "
      ],
      "execution_count": 10,
      "outputs": [
        {
          "output_type": "execute_result",
          "data": {
            "image/png": "[encoded data removed]",
            "text/plain": [
              "<IPython.core.display.Image object>"
            ]
          },
          "metadata": {
            "tags": []
          },
          "execution_count": 10
        }
      ]
    },
    {
      "cell_type": "markdown",
      "metadata": {
        "id": "McsE4dsFP8Ma"
      },
      "source": [
        "### Тренируем Автоэнкодер"
      ]
    },
    {
      "cell_type": "code",
      "metadata": {
        "id": "_o0uwYm2Pd4k",
        "outputId": "299fb96a-5226-466a-ff33-092195aaca88",
        "colab": {
          "base_uri": "https://localhost:8080/",
          "height": 1000
        }
      },
      "source": [
        "autoencoder.compile(optimizer=pretrain_optimizer, loss='mse')\n",
        "autoencoder.fit(x, x, batch_size=batch_size, epochs=pretrain_epochs)"
      ],
      "execution_count": 8,
      "outputs": [
        {
          "output_type": "stream",
          "text": [
            "Epoch 1/300\n",
            "274/274 [==============================] - 1s 5ms/step - loss: 0.0645\n",
            "Epoch 2/300\n",
            "274/274 [==============================] - 1s 4ms/step - loss: 0.0442\n",
            "Epoch 3/300\n",
            "274/274 [==============================] - 1s 4ms/step - loss: 0.0323\n",
            "Epoch 4/300\n",
            "274/274 [==============================] - 1s 4ms/step - loss: 0.0268\n",
            "Epoch 5/300\n",
            "274/274 [==============================] - 1s 4ms/step - loss: 0.0241\n",
            "Epoch 6/300\n",
            "274/274 [==============================] - 1s 4ms/step - loss: 0.0225\n",
            "Epoch 7/300\n",
            "274/274 [==============================] - 1s 4ms/step - loss: 0.0213\n",
            "Epoch 8/300\n",
            "274/274 [==============================] - 1s 4ms/step - loss: 0.0203\n",
            "Epoch 9/300\n",
            "274/274 [==============================] - 1s 4ms/step - loss: 0.0196\n",
            "Epoch 10/300\n",
            "274/274 [==============================] - 1s 4ms/step - loss: 0.0189\n",
            "Epoch 11/300\n",
            "274/274 [==============================] - 1s 4ms/step - loss: 0.0184\n",
            "Epoch 12/300\n",
            "274/274 [==============================] - 1s 4ms/step - loss: 0.0179\n",
            "Epoch 13/300\n",
            "274/274 [==============================] - 1s 4ms/step - loss: 0.0175\n",
            "Epoch 14/300\n",
            "274/274 [==============================] - 1s 4ms/step - loss: 0.0172\n",
            "Epoch 15/300\n",
            "274/274 [==============================] - 1s 4ms/step - loss: 0.0169\n",
            "Epoch 16/300\n",
            "274/274 [==============================] - 1s 4ms/step - loss: 0.0166\n",
            "Epoch 17/300\n",
            "274/274 [==============================] - 1s 4ms/step - loss: 0.0163\n",
            "Epoch 18/300\n",
            "274/274 [==============================] - 1s 4ms/step - loss: 0.0160\n",
            "Epoch 19/300\n",
            "274/274 [==============================] - 1s 4ms/step - loss: 0.0158\n",
            "Epoch 20/300\n",
            "274/274 [==============================] - 1s 4ms/step - loss: 0.0156\n",
            "Epoch 21/300\n",
            "274/274 [==============================] - 1s 4ms/step - loss: 0.0154\n",
            "Epoch 22/300\n",
            "274/274 [==============================] - 1s 4ms/step - loss: 0.0153\n",
            "Epoch 23/300\n",
            "274/274 [==============================] - 1s 4ms/step - loss: 0.0151\n",
            "Epoch 24/300\n",
            "274/274 [==============================] - 1s 4ms/step - loss: 0.0149\n",
            "Epoch 25/300\n",
            "274/274 [==============================] - 1s 4ms/step - loss: 0.0147\n",
            "Epoch 26/300\n",
            "274/274 [==============================] - 1s 4ms/step - loss: 0.0146\n",
            "Epoch 27/300\n",
            "274/274 [==============================] - 1s 4ms/step - loss: 0.0145\n",
            "Epoch 28/300\n",
            "274/274 [==============================] - 1s 4ms/step - loss: 0.0143\n",
            "Epoch 29/300\n",
            "274/274 [==============================] - 1s 4ms/step - loss: 0.0142\n",
            "Epoch 30/300\n",
            "274/274 [==============================] - 1s 4ms/step - loss: 0.0141\n",
            "Epoch 31/300\n",
            "274/274 [==============================] - 1s 4ms/step - loss: 0.0140\n",
            "Epoch 32/300\n",
            "274/274 [==============================] - 1s 4ms/step - loss: 0.0139\n",
            "Epoch 33/300\n",
            "274/274 [==============================] - 1s 4ms/step - loss: 0.0138\n",
            "Epoch 34/300\n",
            "274/274 [==============================] - 1s 4ms/step - loss: 0.0137\n",
            "Epoch 35/300\n",
            "274/274 [==============================] - 1s 4ms/step - loss: 0.0136\n",
            "Epoch 36/300\n",
            "274/274 [==============================] - 1s 4ms/step - loss: 0.0135\n",
            "Epoch 37/300\n",
            "274/274 [==============================] - 1s 4ms/step - loss: 0.0134\n",
            "Epoch 38/300\n",
            "274/274 [==============================] - 1s 4ms/step - loss: 0.0133\n",
            "Epoch 39/300\n",
            "274/274 [==============================] - 1s 4ms/step - loss: 0.0132\n",
            "Epoch 40/300\n",
            "274/274 [==============================] - 1s 4ms/step - loss: 0.0131\n",
            "Epoch 41/300\n",
            "274/274 [==============================] - 1s 4ms/step - loss: 0.0130\n",
            "Epoch 42/300\n",
            "274/274 [==============================] - 1s 4ms/step - loss: 0.0130\n",
            "Epoch 43/300\n",
            "274/274 [==============================] - 1s 4ms/step - loss: 0.0129\n",
            "Epoch 44/300\n",
            "274/274 [==============================] - 1s 4ms/step - loss: 0.0128\n",
            "Epoch 45/300\n",
            "274/274 [==============================] - 1s 4ms/step - loss: 0.0127\n",
            "Epoch 46/300\n",
            "274/274 [==============================] - 1s 4ms/step - loss: 0.0127\n",
            "Epoch 47/300\n",
            "274/274 [==============================] - 1s 4ms/step - loss: 0.0126\n",
            "Epoch 48/300\n",
            "274/274 [==============================] - 1s 4ms/step - loss: 0.0126\n",
            "Epoch 49/300\n",
            "274/274 [==============================] - 1s 4ms/step - loss: 0.0125\n",
            "Epoch 50/300\n",
            "274/274 [==============================] - 1s 4ms/step - loss: 0.0124\n",
            "Epoch 51/300\n",
            "274/274 [==============================] - 1s 4ms/step - loss: 0.0124\n",
            "Epoch 52/300\n",
            "274/274 [==============================] - 1s 4ms/step - loss: 0.0123\n",
            "Epoch 53/300\n",
            "274/274 [==============================] - 1s 4ms/step - loss: 0.0123\n",
            "Epoch 54/300\n",
            "274/274 [==============================] - 1s 4ms/step - loss: 0.0122\n",
            "Epoch 55/300\n",
            "274/274 [==============================] - 1s 4ms/step - loss: 0.0122\n",
            "Epoch 56/300\n",
            "274/274 [==============================] - 1s 4ms/step - loss: 0.0121\n",
            "Epoch 57/300\n",
            "274/274 [==============================] - 1s 4ms/step - loss: 0.0120\n",
            "Epoch 58/300\n",
            "274/274 [==============================] - 1s 4ms/step - loss: 0.0120\n",
            "Epoch 59/300\n",
            "274/274 [==============================] - 1s 4ms/step - loss: 0.0120\n",
            "Epoch 60/300\n",
            "274/274 [==============================] - 1s 4ms/step - loss: 0.0119\n",
            "Epoch 61/300\n",
            "274/274 [==============================] - 1s 4ms/step - loss: 0.0119\n",
            "Epoch 62/300\n",
            "274/274 [==============================] - 1s 4ms/step - loss: 0.0118\n",
            "Epoch 63/300\n",
            "274/274 [==============================] - 1s 4ms/step - loss: 0.0118\n",
            "Epoch 64/300\n",
            "274/274 [==============================] - 1s 4ms/step - loss: 0.0117\n",
            "Epoch 65/300\n",
            "274/274 [==============================] - 1s 4ms/step - loss: 0.0117\n",
            "Epoch 66/300\n",
            "274/274 [==============================] - 1s 4ms/step - loss: 0.0116\n",
            "Epoch 67/300\n",
            "274/274 [==============================] - 1s 4ms/step - loss: 0.0116\n",
            "Epoch 68/300\n",
            "274/274 [==============================] - 1s 4ms/step - loss: 0.0116\n",
            "Epoch 69/300\n",
            "274/274 [==============================] - 1s 4ms/step - loss: 0.0115\n",
            "Epoch 70/300\n",
            "274/274 [==============================] - 1s 4ms/step - loss: 0.0115\n",
            "Epoch 71/300\n",
            "274/274 [==============================] - 1s 4ms/step - loss: 0.0114\n",
            "Epoch 72/300\n",
            "274/274 [==============================] - 1s 4ms/step - loss: 0.0114\n",
            "Epoch 73/300\n",
            "274/274 [==============================] - 1s 4ms/step - loss: 0.0114\n",
            "Epoch 74/300\n",
            "274/274 [==============================] - 1s 4ms/step - loss: 0.0113\n",
            "Epoch 75/300\n",
            "274/274 [==============================] - 1s 4ms/step - loss: 0.0113\n",
            "Epoch 76/300\n",
            "274/274 [==============================] - 1s 4ms/step - loss: 0.0112\n",
            "Epoch 77/300\n",
            "274/274 [==============================] - 1s 4ms/step - loss: 0.0112\n",
            "Epoch 78/300\n",
            "274/274 [==============================] - 1s 4ms/step - loss: 0.0112\n",
            "Epoch 79/300\n",
            "274/274 [==============================] - 1s 4ms/step - loss: 0.0111\n",
            "Epoch 80/300\n",
            "274/274 [==============================] - 1s 4ms/step - loss: 0.0111\n",
            "Epoch 81/300\n",
            "274/274 [==============================] - 1s 4ms/step - loss: 0.0111\n",
            "Epoch 82/300\n",
            "274/274 [==============================] - 1s 4ms/step - loss: 0.0111\n",
            "Epoch 83/300\n",
            "274/274 [==============================] - 1s 4ms/step - loss: 0.0110\n",
            "Epoch 84/300\n",
            "274/274 [==============================] - 1s 4ms/step - loss: 0.0110\n",
            "Epoch 85/300\n",
            "274/274 [==============================] - 1s 4ms/step - loss: 0.0110\n",
            "Epoch 86/300\n",
            "274/274 [==============================] - 1s 4ms/step - loss: 0.0109\n",
            "Epoch 87/300\n",
            "274/274 [==============================] - 1s 4ms/step - loss: 0.0109\n",
            "Epoch 88/300\n",
            "274/274 [==============================] - 1s 4ms/step - loss: 0.0109\n",
            "Epoch 89/300\n",
            "274/274 [==============================] - 1s 4ms/step - loss: 0.0108\n",
            "Epoch 90/300\n",
            "274/274 [==============================] - 1s 4ms/step - loss: 0.0108\n",
            "Epoch 91/300\n",
            "274/274 [==============================] - 1s 4ms/step - loss: 0.0108\n",
            "Epoch 92/300\n",
            "274/274 [==============================] - 1s 4ms/step - loss: 0.0107\n",
            "Epoch 93/300\n",
            "274/274 [==============================] - 1s 4ms/step - loss: 0.0107\n",
            "Epoch 94/300\n",
            "274/274 [==============================] - 1s 4ms/step - loss: 0.0107\n",
            "Epoch 95/300\n",
            "274/274 [==============================] - 1s 4ms/step - loss: 0.0107\n",
            "Epoch 96/300\n",
            "274/274 [==============================] - 1s 4ms/step - loss: 0.0106\n",
            "Epoch 97/300\n",
            "274/274 [==============================] - 1s 4ms/step - loss: 0.0106\n",
            "Epoch 98/300\n",
            "274/274 [==============================] - 1s 4ms/step - loss: 0.0106\n",
            "Epoch 99/300\n",
            "274/274 [==============================] - 1s 4ms/step - loss: 0.0106\n",
            "Epoch 100/300\n",
            "274/274 [==============================] - 1s 4ms/step - loss: 0.0105\n",
            "Epoch 101/300\n",
            "274/274 [==============================] - 1s 4ms/step - loss: 0.0105\n",
            "Epoch 102/300\n",
            "274/274 [==============================] - 1s 4ms/step - loss: 0.0105\n",
            "Epoch 103/300\n",
            "274/274 [==============================] - 1s 4ms/step - loss: 0.0105\n",
            "Epoch 104/300\n",
            "274/274 [==============================] - 1s 4ms/step - loss: 0.0104\n",
            "Epoch 105/300\n",
            "274/274 [==============================] - 1s 4ms/step - loss: 0.0104\n",
            "Epoch 106/300\n",
            "274/274 [==============================] - 1s 4ms/step - loss: 0.0104\n",
            "Epoch 107/300\n",
            "274/274 [==============================] - 1s 4ms/step - loss: 0.0104\n",
            "Epoch 108/300\n",
            "274/274 [==============================] - 1s 4ms/step - loss: 0.0103\n",
            "Epoch 109/300\n",
            "274/274 [==============================] - 1s 4ms/step - loss: 0.0103\n",
            "Epoch 110/300\n",
            "274/274 [==============================] - 1s 4ms/step - loss: 0.0103\n",
            "Epoch 111/300\n",
            "274/274 [==============================] - 1s 4ms/step - loss: 0.0103\n",
            "Epoch 112/300\n",
            "274/274 [==============================] - 1s 4ms/step - loss: 0.0103\n",
            "Epoch 113/300\n",
            "274/274 [==============================] - 1s 4ms/step - loss: 0.0102\n",
            "Epoch 114/300\n",
            "274/274 [==============================] - 1s 4ms/step - loss: 0.0102\n",
            "Epoch 115/300\n",
            "274/274 [==============================] - 1s 4ms/step - loss: 0.0102\n",
            "Epoch 116/300\n",
            "274/274 [==============================] - 1s 4ms/step - loss: 0.0102\n",
            "Epoch 117/300\n",
            "274/274 [==============================] - 1s 4ms/step - loss: 0.0102\n",
            "Epoch 118/300\n",
            "274/274 [==============================] - 1s 4ms/step - loss: 0.0101\n",
            "Epoch 119/300\n",
            "274/274 [==============================] - 1s 4ms/step - loss: 0.0101\n",
            "Epoch 120/300\n",
            "274/274 [==============================] - 1s 4ms/step - loss: 0.0101\n",
            "Epoch 121/300\n",
            "274/274 [==============================] - 1s 4ms/step - loss: 0.0101\n",
            "Epoch 122/300\n",
            "274/274 [==============================] - 1s 4ms/step - loss: 0.0101\n",
            "Epoch 123/300\n",
            "274/274 [==============================] - 1s 4ms/step - loss: 0.0100\n",
            "Epoch 124/300\n",
            "274/274 [==============================] - 1s 4ms/step - loss: 0.0100\n",
            "Epoch 125/300\n",
            "274/274 [==============================] - 1s 4ms/step - loss: 0.0100\n",
            "Epoch 126/300\n",
            "274/274 [==============================] - 1s 4ms/step - loss: 0.0100\n",
            "Epoch 127/300\n",
            "274/274 [==============================] - 1s 4ms/step - loss: 0.0100\n",
            "Epoch 128/300\n",
            "274/274 [==============================] - 1s 4ms/step - loss: 0.0099\n",
            "Epoch 129/300\n",
            "274/274 [==============================] - 1s 4ms/step - loss: 0.0099\n",
            "Epoch 130/300\n",
            "274/274 [==============================] - 1s 4ms/step - loss: 0.0099\n",
            "Epoch 131/300\n",
            "274/274 [==============================] - 1s 4ms/step - loss: 0.0099\n",
            "Epoch 132/300\n",
            "274/274 [==============================] - 1s 4ms/step - loss: 0.0099\n",
            "Epoch 133/300\n",
            "274/274 [==============================] - 1s 4ms/step - loss: 0.0099\n",
            "Epoch 134/300\n",
            "274/274 [==============================] - 1s 4ms/step - loss: 0.0098\n",
            "Epoch 135/300\n",
            "274/274 [==============================] - 1s 4ms/step - loss: 0.0098\n",
            "Epoch 136/300\n",
            "274/274 [==============================] - 1s 4ms/step - loss: 0.0098\n",
            "Epoch 137/300\n",
            "274/274 [==============================] - 1s 4ms/step - loss: 0.0098\n",
            "Epoch 138/300\n",
            "274/274 [==============================] - 1s 4ms/step - loss: 0.0098\n",
            "Epoch 139/300\n",
            "274/274 [==============================] - 1s 4ms/step - loss: 0.0097\n",
            "Epoch 140/300\n",
            "274/274 [==============================] - 1s 4ms/step - loss: 0.0097\n",
            "Epoch 141/300\n",
            "274/274 [==============================] - 1s 4ms/step - loss: 0.0097\n",
            "Epoch 142/300\n",
            "274/274 [==============================] - 1s 4ms/step - loss: 0.0097\n",
            "Epoch 143/300\n",
            "274/274 [==============================] - 1s 4ms/step - loss: 0.0097\n",
            "Epoch 144/300\n",
            "274/274 [==============================] - 1s 4ms/step - loss: 0.0097\n",
            "Epoch 145/300\n",
            "274/274 [==============================] - 1s 4ms/step - loss: 0.0096\n",
            "Epoch 146/300\n",
            "274/274 [==============================] - 1s 4ms/step - loss: 0.0096\n",
            "Epoch 147/300\n",
            "274/274 [==============================] - 1s 4ms/step - loss: 0.0096\n",
            "Epoch 148/300\n",
            "274/274 [==============================] - 1s 4ms/step - loss: 0.0096\n",
            "Epoch 149/300\n",
            "274/274 [==============================] - 1s 4ms/step - loss: 0.0096\n",
            "Epoch 150/300\n",
            "274/274 [==============================] - 1s 4ms/step - loss: 0.0096\n",
            "Epoch 151/300\n",
            "274/274 [==============================] - 1s 4ms/step - loss: 0.0096\n",
            "Epoch 152/300\n",
            "274/274 [==============================] - 1s 4ms/step - loss: 0.0095\n",
            "Epoch 153/300\n",
            "274/274 [==============================] - 1s 4ms/step - loss: 0.0095\n",
            "Epoch 154/300\n",
            "274/274 [==============================] - 1s 4ms/step - loss: 0.0095\n",
            "Epoch 155/300\n",
            "274/274 [==============================] - 1s 4ms/step - loss: 0.0095\n",
            "Epoch 156/300\n",
            "274/274 [==============================] - 1s 4ms/step - loss: 0.0095\n",
            "Epoch 157/300\n",
            "274/274 [==============================] - 1s 4ms/step - loss: 0.0095\n",
            "Epoch 158/300\n",
            "274/274 [==============================] - 1s 4ms/step - loss: 0.0095\n",
            "Epoch 159/300\n",
            "274/274 [==============================] - 1s 4ms/step - loss: 0.0095\n",
            "Epoch 160/300\n",
            "274/274 [==============================] - 1s 4ms/step - loss: 0.0094\n",
            "Epoch 161/300\n",
            "274/274 [==============================] - 1s 4ms/step - loss: 0.0094\n",
            "Epoch 162/300\n",
            "274/274 [==============================] - 1s 4ms/step - loss: 0.0094\n",
            "Epoch 163/300\n",
            "274/274 [==============================] - 1s 4ms/step - loss: 0.0094\n",
            "Epoch 164/300\n",
            "274/274 [==============================] - 1s 4ms/step - loss: 0.0094\n",
            "Epoch 165/300\n",
            "274/274 [==============================] - 1s 4ms/step - loss: 0.0094\n",
            "Epoch 166/300\n",
            "274/274 [==============================] - 1s 4ms/step - loss: 0.0093\n",
            "Epoch 167/300\n",
            "274/274 [==============================] - 1s 4ms/step - loss: 0.0093\n",
            "Epoch 168/300\n",
            "274/274 [==============================] - 1s 4ms/step - loss: 0.0093\n",
            "Epoch 169/300\n",
            "274/274 [==============================] - 1s 4ms/step - loss: 0.0093\n",
            "Epoch 170/300\n",
            "274/274 [==============================] - 1s 4ms/step - loss: 0.0093\n",
            "Epoch 171/300\n",
            "274/274 [==============================] - 1s 4ms/step - loss: 0.0093\n",
            "Epoch 172/300\n",
            "274/274 [==============================] - 1s 4ms/step - loss: 0.0093\n",
            "Epoch 173/300\n",
            "274/274 [==============================] - 1s 4ms/step - loss: 0.0093\n",
            "Epoch 174/300\n",
            "274/274 [==============================] - 1s 4ms/step - loss: 0.0093\n",
            "Epoch 175/300\n",
            "274/274 [==============================] - 1s 4ms/step - loss: 0.0092\n",
            "Epoch 176/300\n",
            "274/274 [==============================] - 1s 4ms/step - loss: 0.0092\n",
            "Epoch 177/300\n",
            "274/274 [==============================] - 1s 4ms/step - loss: 0.0092\n",
            "Epoch 178/300\n",
            "274/274 [==============================] - 1s 4ms/step - loss: 0.0092\n",
            "Epoch 179/300\n",
            "274/274 [==============================] - 1s 4ms/step - loss: 0.0092\n",
            "Epoch 180/300\n",
            "274/274 [==============================] - 1s 4ms/step - loss: 0.0092\n",
            "Epoch 181/300\n",
            "274/274 [==============================] - 1s 4ms/step - loss: 0.0092\n",
            "Epoch 182/300\n",
            "274/274 [==============================] - 1s 4ms/step - loss: 0.0091\n",
            "Epoch 183/300\n",
            "274/274 [==============================] - 1s 4ms/step - loss: 0.0091\n",
            "Epoch 184/300\n",
            "274/274 [==============================] - 1s 4ms/step - loss: 0.0091\n",
            "Epoch 185/300\n",
            "274/274 [==============================] - 1s 4ms/step - loss: 0.0091\n",
            "Epoch 186/300\n",
            "274/274 [==============================] - 1s 4ms/step - loss: 0.0091\n",
            "Epoch 187/300\n",
            "274/274 [==============================] - 1s 5ms/step - loss: 0.0091\n",
            "Epoch 188/300\n",
            "274/274 [==============================] - 1s 4ms/step - loss: 0.0091\n",
            "Epoch 189/300\n",
            "274/274 [==============================] - 1s 4ms/step - loss: 0.0091\n",
            "Epoch 190/300\n",
            "274/274 [==============================] - 1s 4ms/step - loss: 0.0091\n",
            "Epoch 191/300\n",
            "274/274 [==============================] - 1s 4ms/step - loss: 0.0090\n",
            "Epoch 192/300\n",
            "274/274 [==============================] - 1s 5ms/step - loss: 0.0090\n",
            "Epoch 193/300\n",
            "274/274 [==============================] - 1s 4ms/step - loss: 0.0090\n",
            "Epoch 194/300\n",
            "274/274 [==============================] - 1s 4ms/step - loss: 0.0090\n",
            "Epoch 195/300\n",
            "274/274 [==============================] - 1s 4ms/step - loss: 0.0090\n",
            "Epoch 196/300\n",
            "274/274 [==============================] - 1s 4ms/step - loss: 0.0090\n",
            "Epoch 197/300\n",
            "274/274 [==============================] - 1s 4ms/step - loss: 0.0090\n",
            "Epoch 198/300\n",
            "274/274 [==============================] - 1s 4ms/step - loss: 0.0090\n",
            "Epoch 199/300\n",
            "274/274 [==============================] - 1s 4ms/step - loss: 0.0090\n",
            "Epoch 200/300\n",
            "274/274 [==============================] - 1s 4ms/step - loss: 0.0090\n",
            "Epoch 201/300\n",
            "274/274 [==============================] - 1s 4ms/step - loss: 0.0090\n",
            "Epoch 202/300\n",
            "274/274 [==============================] - 1s 4ms/step - loss: 0.0089\n",
            "Epoch 203/300\n",
            "274/274 [==============================] - 1s 4ms/step - loss: 0.0089\n",
            "Epoch 204/300\n",
            "274/274 [==============================] - 1s 4ms/step - loss: 0.0089\n",
            "Epoch 205/300\n",
            "274/274 [==============================] - 1s 4ms/step - loss: 0.0089\n",
            "Epoch 206/300\n",
            "274/274 [==============================] - 1s 4ms/step - loss: 0.0089\n",
            "Epoch 207/300\n",
            "274/274 [==============================] - 1s 4ms/step - loss: 0.0089\n",
            "Epoch 208/300\n",
            "274/274 [==============================] - 1s 4ms/step - loss: 0.0089\n",
            "Epoch 209/300\n",
            "274/274 [==============================] - 1s 4ms/step - loss: 0.0089\n",
            "Epoch 210/300\n",
            "274/274 [==============================] - 1s 4ms/step - loss: 0.0089\n",
            "Epoch 211/300\n",
            "274/274 [==============================] - 1s 4ms/step - loss: 0.0088\n",
            "Epoch 212/300\n",
            "274/274 [==============================] - 1s 4ms/step - loss: 0.0088\n",
            "Epoch 213/300\n",
            "274/274 [==============================] - 1s 4ms/step - loss: 0.0088\n",
            "Epoch 214/300\n",
            "274/274 [==============================] - 1s 4ms/step - loss: 0.0088\n",
            "Epoch 215/300\n",
            "274/274 [==============================] - 1s 4ms/step - loss: 0.0088\n",
            "Epoch 216/300\n",
            "274/274 [==============================] - 1s 4ms/step - loss: 0.0088\n",
            "Epoch 217/300\n",
            "274/274 [==============================] - 1s 4ms/step - loss: 0.0088\n",
            "Epoch 218/300\n",
            "274/274 [==============================] - 1s 4ms/step - loss: 0.0088\n",
            "Epoch 219/300\n",
            "274/274 [==============================] - 1s 4ms/step - loss: 0.0088\n",
            "Epoch 220/300\n",
            "274/274 [==============================] - 1s 4ms/step - loss: 0.0088\n",
            "Epoch 221/300\n",
            "274/274 [==============================] - 1s 4ms/step - loss: 0.0088\n",
            "Epoch 222/300\n",
            "274/274 [==============================] - 1s 4ms/step - loss: 0.0088\n",
            "Epoch 223/300\n",
            "274/274 [==============================] - 1s 4ms/step - loss: 0.0087\n",
            "Epoch 224/300\n",
            "274/274 [==============================] - 1s 4ms/step - loss: 0.0087\n",
            "Epoch 225/300\n",
            "274/274 [==============================] - 1s 4ms/step - loss: 0.0087\n",
            "Epoch 226/300\n",
            "274/274 [==============================] - 1s 4ms/step - loss: 0.0087\n",
            "Epoch 227/300\n",
            "274/274 [==============================] - 1s 4ms/step - loss: 0.0087\n",
            "Epoch 228/300\n",
            "274/274 [==============================] - 1s 4ms/step - loss: 0.0087\n",
            "Epoch 229/300\n",
            "274/274 [==============================] - 1s 4ms/step - loss: 0.0087\n",
            "Epoch 230/300\n",
            "274/274 [==============================] - 1s 4ms/step - loss: 0.0087\n",
            "Epoch 231/300\n",
            "274/274 [==============================] - 1s 4ms/step - loss: 0.0087\n",
            "Epoch 232/300\n",
            "274/274 [==============================] - 1s 4ms/step - loss: 0.0087\n",
            "Epoch 233/300\n",
            "274/274 [==============================] - 1s 4ms/step - loss: 0.0087\n",
            "Epoch 234/300\n",
            "274/274 [==============================] - 1s 4ms/step - loss: 0.0086\n",
            "Epoch 235/300\n",
            "274/274 [==============================] - 1s 4ms/step - loss: 0.0086\n",
            "Epoch 236/300\n",
            "274/274 [==============================] - 1s 4ms/step - loss: 0.0086\n",
            "Epoch 237/300\n",
            "274/274 [==============================] - 1s 4ms/step - loss: 0.0086\n",
            "Epoch 238/300\n",
            "274/274 [==============================] - 1s 4ms/step - loss: 0.0086\n",
            "Epoch 239/300\n",
            "274/274 [==============================] - 1s 4ms/step - loss: 0.0086\n",
            "Epoch 240/300\n",
            "274/274 [==============================] - 1s 4ms/step - loss: 0.0086\n",
            "Epoch 241/300\n",
            "274/274 [==============================] - 1s 4ms/step - loss: 0.0086\n",
            "Epoch 242/300\n",
            "274/274 [==============================] - 1s 4ms/step - loss: 0.0086\n",
            "Epoch 243/300\n",
            "274/274 [==============================] - 1s 4ms/step - loss: 0.0086\n",
            "Epoch 244/300\n",
            "274/274 [==============================] - 1s 4ms/step - loss: 0.0086\n",
            "Epoch 245/300\n",
            "274/274 [==============================] - 1s 4ms/step - loss: 0.0086\n",
            "Epoch 246/300\n",
            "274/274 [==============================] - 1s 4ms/step - loss: 0.0085\n",
            "Epoch 247/300\n",
            "274/274 [==============================] - 1s 4ms/step - loss: 0.0085\n",
            "Epoch 248/300\n",
            "274/274 [==============================] - 1s 4ms/step - loss: 0.0085\n",
            "Epoch 249/300\n",
            "274/274 [==============================] - 1s 4ms/step - loss: 0.0085\n",
            "Epoch 250/300\n",
            "274/274 [==============================] - 1s 4ms/step - loss: 0.0085\n",
            "Epoch 251/300\n",
            "274/274 [==============================] - 1s 4ms/step - loss: 0.0085\n",
            "Epoch 252/300\n",
            "274/274 [==============================] - 1s 4ms/step - loss: 0.0085\n",
            "Epoch 253/300\n",
            "274/274 [==============================] - 1s 4ms/step - loss: 0.0085\n",
            "Epoch 254/300\n",
            "274/274 [==============================] - 1s 4ms/step - loss: 0.0085\n",
            "Epoch 255/300\n",
            "274/274 [==============================] - 1s 4ms/step - loss: 0.0085\n",
            "Epoch 256/300\n",
            "274/274 [==============================] - 1s 4ms/step - loss: 0.0085\n",
            "Epoch 257/300\n",
            "274/274 [==============================] - 1s 4ms/step - loss: 0.0085\n",
            "Epoch 258/300\n",
            "274/274 [==============================] - 1s 4ms/step - loss: 0.0085\n",
            "Epoch 259/300\n",
            "274/274 [==============================] - 1s 4ms/step - loss: 0.0084\n",
            "Epoch 260/300\n",
            "274/274 [==============================] - 1s 4ms/step - loss: 0.0084\n",
            "Epoch 261/300\n",
            "274/274 [==============================] - 1s 4ms/step - loss: 0.0084\n",
            "Epoch 262/300\n",
            "274/274 [==============================] - 1s 4ms/step - loss: 0.0084\n",
            "Epoch 263/300\n",
            "274/274 [==============================] - 1s 4ms/step - loss: 0.0084\n",
            "Epoch 264/300\n",
            "274/274 [==============================] - 1s 4ms/step - loss: 0.0084\n",
            "Epoch 265/300\n",
            "274/274 [==============================] - 1s 4ms/step - loss: 0.0084\n",
            "Epoch 266/300\n",
            "274/274 [==============================] - 1s 4ms/step - loss: 0.0084\n",
            "Epoch 267/300\n",
            "274/274 [==============================] - 1s 4ms/step - loss: 0.0084\n",
            "Epoch 268/300\n",
            "274/274 [==============================] - 1s 4ms/step - loss: 0.0084\n",
            "Epoch 269/300\n",
            "274/274 [==============================] - 1s 4ms/step - loss: 0.0084\n",
            "Epoch 270/300\n",
            "274/274 [==============================] - 1s 4ms/step - loss: 0.0084\n",
            "Epoch 271/300\n",
            "274/274 [==============================] - 1s 4ms/step - loss: 0.0084\n",
            "Epoch 272/300\n",
            "274/274 [==============================] - 1s 4ms/step - loss: 0.0084\n",
            "Epoch 273/300\n",
            "274/274 [==============================] - 1s 4ms/step - loss: 0.0084\n",
            "Epoch 274/300\n",
            "274/274 [==============================] - 1s 4ms/step - loss: 0.0083\n",
            "Epoch 275/300\n",
            "274/274 [==============================] - 1s 4ms/step - loss: 0.0083\n",
            "Epoch 276/300\n",
            "274/274 [==============================] - 1s 4ms/step - loss: 0.0083\n",
            "Epoch 277/300\n",
            "274/274 [==============================] - 1s 4ms/step - loss: 0.0083\n",
            "Epoch 278/300\n",
            "274/274 [==============================] - 1s 4ms/step - loss: 0.0083\n",
            "Epoch 279/300\n",
            "274/274 [==============================] - 1s 4ms/step - loss: 0.0083\n",
            "Epoch 280/300\n",
            "274/274 [==============================] - 1s 4ms/step - loss: 0.0083\n",
            "Epoch 281/300\n",
            "274/274 [==============================] - 1s 4ms/step - loss: 0.0083\n",
            "Epoch 282/300\n",
            "274/274 [==============================] - 1s 4ms/step - loss: 0.0083\n",
            "Epoch 283/300\n",
            "274/274 [==============================] - 1s 4ms/step - loss: 0.0083\n",
            "Epoch 284/300\n",
            "274/274 [==============================] - 1s 4ms/step - loss: 0.0083\n",
            "Epoch 285/300\n",
            "274/274 [==============================] - 1s 4ms/step - loss: 0.0083\n",
            "Epoch 286/300\n",
            "274/274 [==============================] - 1s 4ms/step - loss: 0.0083\n",
            "Epoch 287/300\n",
            "274/274 [==============================] - 1s 4ms/step - loss: 0.0083\n",
            "Epoch 288/300\n",
            "274/274 [==============================] - 1s 4ms/step - loss: 0.0083\n",
            "Epoch 289/300\n",
            "274/274 [==============================] - 1s 4ms/step - loss: 0.0082\n",
            "Epoch 290/300\n",
            "274/274 [==============================] - 1s 4ms/step - loss: 0.0082\n",
            "Epoch 291/300\n",
            "274/274 [==============================] - 1s 4ms/step - loss: 0.0082\n",
            "Epoch 292/300\n",
            "274/274 [==============================] - 1s 4ms/step - loss: 0.0082\n",
            "Epoch 293/300\n",
            "274/274 [==============================] - 1s 4ms/step - loss: 0.0082\n",
            "Epoch 294/300\n",
            "274/274 [==============================] - 1s 4ms/step - loss: 0.0082\n",
            "Epoch 295/300\n",
            "274/274 [==============================] - 1s 4ms/step - loss: 0.0082\n",
            "Epoch 296/300\n",
            "274/274 [==============================] - 1s 4ms/step - loss: 0.0082\n",
            "Epoch 297/300\n",
            "274/274 [==============================] - 1s 4ms/step - loss: 0.0082\n",
            "Epoch 298/300\n",
            "274/274 [==============================] - 1s 4ms/step - loss: 0.0082\n",
            "Epoch 299/300\n",
            "274/274 [==============================] - 1s 4ms/step - loss: 0.0082\n",
            "Epoch 300/300\n",
            "274/274 [==============================] - 1s 5ms/step - loss: 0.0082\n"
          ],
          "name": "stdout"
        },
        {
          "output_type": "error",
          "ename": "OSError",
          "evalue": "ignored",
          "traceback": [
            "\u001b[0;31m---------------------------------------------------------------------------\u001b[0m",
            "\u001b[0;31mOSError\u001b[0m                                   Traceback (most recent call last)",
            "\u001b[0;32m<ipython-input-8-ea0512748873>\u001b[0m in \u001b[0;36m<module>\u001b[0;34m()\u001b[0m\n\u001b[1;32m      1\u001b[0m \u001b[0mautoencoder\u001b[0m\u001b[0;34m.\u001b[0m\u001b[0mcompile\u001b[0m\u001b[0;34m(\u001b[0m\u001b[0moptimizer\u001b[0m\u001b[0;34m=\u001b[0m\u001b[0mpretrain_optimizer\u001b[0m\u001b[0;34m,\u001b[0m \u001b[0mloss\u001b[0m\u001b[0;34m=\u001b[0m\u001b[0;34m'mse'\u001b[0m\u001b[0;34m)\u001b[0m\u001b[0;34m\u001b[0m\u001b[0;34m\u001b[0m\u001b[0m\n\u001b[1;32m      2\u001b[0m \u001b[0mautoencoder\u001b[0m\u001b[0;34m.\u001b[0m\u001b[0mfit\u001b[0m\u001b[0;34m(\u001b[0m\u001b[0mx\u001b[0m\u001b[0;34m,\u001b[0m \u001b[0mx\u001b[0m\u001b[0;34m,\u001b[0m \u001b[0mbatch_size\u001b[0m\u001b[0;34m=\u001b[0m\u001b[0mbatch_size\u001b[0m\u001b[0;34m,\u001b[0m \u001b[0mepochs\u001b[0m\u001b[0;34m=\u001b[0m\u001b[0mpretrain_epochs\u001b[0m\u001b[0;34m)\u001b[0m\u001b[0;34m\u001b[0m\u001b[0;34m\u001b[0m\u001b[0m\n\u001b[0;32m----> 3\u001b[0;31m \u001b[0mautoencoder\u001b[0m\u001b[0;34m.\u001b[0m\u001b[0msave_weights\u001b[0m\u001b[0;34m(\u001b[0m\u001b[0msave_dir\u001b[0m \u001b[0;34m+\u001b[0m \u001b[0;34m'/ae_weights.h5'\u001b[0m\u001b[0;34m)\u001b[0m\u001b[0;34m\u001b[0m\u001b[0;34m\u001b[0m\u001b[0m\n\u001b[0m",
            "\u001b[0;32m/usr/local/lib/python3.6/dist-packages/tensorflow/python/keras/engine/training.py\u001b[0m in \u001b[0;36msave_weights\u001b[0;34m(self, filepath, overwrite, save_format, options)\u001b[0m\n\u001b[1;32m   2082\u001b[0m         \u001b[0;32mreturn\u001b[0m\u001b[0;34m\u001b[0m\u001b[0;34m\u001b[0m\u001b[0m\n\u001b[1;32m   2083\u001b[0m     \u001b[0;32mif\u001b[0m \u001b[0msave_format\u001b[0m \u001b[0;34m==\u001b[0m \u001b[0;34m'h5'\u001b[0m\u001b[0;34m:\u001b[0m\u001b[0;34m\u001b[0m\u001b[0;34m\u001b[0m\u001b[0m\n\u001b[0;32m-> 2084\u001b[0;31m       \u001b[0;32mwith\u001b[0m \u001b[0mh5py\u001b[0m\u001b[0;34m.\u001b[0m\u001b[0mFile\u001b[0m\u001b[0;34m(\u001b[0m\u001b[0mfilepath\u001b[0m\u001b[0;34m,\u001b[0m \u001b[0;34m'w'\u001b[0m\u001b[0;34m)\u001b[0m \u001b[0;32mas\u001b[0m \u001b[0mf\u001b[0m\u001b[0;34m:\u001b[0m\u001b[0;34m\u001b[0m\u001b[0;34m\u001b[0m\u001b[0m\n\u001b[0m\u001b[1;32m   2085\u001b[0m         \u001b[0mhdf5_format\u001b[0m\u001b[0;34m.\u001b[0m\u001b[0msave_weights_to_hdf5_group\u001b[0m\u001b[0;34m(\u001b[0m\u001b[0mf\u001b[0m\u001b[0;34m,\u001b[0m \u001b[0mself\u001b[0m\u001b[0;34m.\u001b[0m\u001b[0mlayers\u001b[0m\u001b[0;34m)\u001b[0m\u001b[0;34m\u001b[0m\u001b[0;34m\u001b[0m\u001b[0m\n\u001b[1;32m   2086\u001b[0m     \u001b[0;32melse\u001b[0m\u001b[0;34m:\u001b[0m\u001b[0;34m\u001b[0m\u001b[0;34m\u001b[0m\u001b[0m\n",
            "\u001b[0;32m/usr/local/lib/python3.6/dist-packages/h5py/_hl/files.py\u001b[0m in \u001b[0;36m__init__\u001b[0;34m(self, name, mode, driver, libver, userblock_size, swmr, rdcc_nslots, rdcc_nbytes, rdcc_w0, track_order, **kwds)\u001b[0m\n\u001b[1;32m    406\u001b[0m                 fid = make_fid(name, mode, userblock_size,\n\u001b[1;32m    407\u001b[0m                                \u001b[0mfapl\u001b[0m\u001b[0;34m,\u001b[0m \u001b[0mfcpl\u001b[0m\u001b[0;34m=\u001b[0m\u001b[0mmake_fcpl\u001b[0m\u001b[0;34m(\u001b[0m\u001b[0mtrack_order\u001b[0m\u001b[0;34m=\u001b[0m\u001b[0mtrack_order\u001b[0m\u001b[0;34m)\u001b[0m\u001b[0;34m,\u001b[0m\u001b[0;34m\u001b[0m\u001b[0;34m\u001b[0m\u001b[0m\n\u001b[0;32m--> 408\u001b[0;31m                                swmr=swmr)\n\u001b[0m\u001b[1;32m    409\u001b[0m \u001b[0;34m\u001b[0m\u001b[0m\n\u001b[1;32m    410\u001b[0m             \u001b[0;32mif\u001b[0m \u001b[0misinstance\u001b[0m\u001b[0;34m(\u001b[0m\u001b[0mlibver\u001b[0m\u001b[0;34m,\u001b[0m \u001b[0mtuple\u001b[0m\u001b[0;34m)\u001b[0m\u001b[0;34m:\u001b[0m\u001b[0;34m\u001b[0m\u001b[0;34m\u001b[0m\u001b[0m\n",
            "\u001b[0;32m/usr/local/lib/python3.6/dist-packages/h5py/_hl/files.py\u001b[0m in \u001b[0;36mmake_fid\u001b[0;34m(name, mode, userblock_size, fapl, fcpl, swmr)\u001b[0m\n\u001b[1;32m    177\u001b[0m         \u001b[0mfid\u001b[0m \u001b[0;34m=\u001b[0m \u001b[0mh5f\u001b[0m\u001b[0;34m.\u001b[0m\u001b[0mcreate\u001b[0m\u001b[0;34m(\u001b[0m\u001b[0mname\u001b[0m\u001b[0;34m,\u001b[0m \u001b[0mh5f\u001b[0m\u001b[0;34m.\u001b[0m\u001b[0mACC_EXCL\u001b[0m\u001b[0;34m,\u001b[0m \u001b[0mfapl\u001b[0m\u001b[0;34m=\u001b[0m\u001b[0mfapl\u001b[0m\u001b[0;34m,\u001b[0m \u001b[0mfcpl\u001b[0m\u001b[0;34m=\u001b[0m\u001b[0mfcpl\u001b[0m\u001b[0;34m)\u001b[0m\u001b[0;34m\u001b[0m\u001b[0;34m\u001b[0m\u001b[0m\n\u001b[1;32m    178\u001b[0m     \u001b[0;32melif\u001b[0m \u001b[0mmode\u001b[0m \u001b[0;34m==\u001b[0m \u001b[0;34m'w'\u001b[0m\u001b[0;34m:\u001b[0m\u001b[0;34m\u001b[0m\u001b[0;34m\u001b[0m\u001b[0m\n\u001b[0;32m--> 179\u001b[0;31m         \u001b[0mfid\u001b[0m \u001b[0;34m=\u001b[0m \u001b[0mh5f\u001b[0m\u001b[0;34m.\u001b[0m\u001b[0mcreate\u001b[0m\u001b[0;34m(\u001b[0m\u001b[0mname\u001b[0m\u001b[0;34m,\u001b[0m \u001b[0mh5f\u001b[0m\u001b[0;34m.\u001b[0m\u001b[0mACC_TRUNC\u001b[0m\u001b[0;34m,\u001b[0m \u001b[0mfapl\u001b[0m\u001b[0;34m=\u001b[0m\u001b[0mfapl\u001b[0m\u001b[0;34m,\u001b[0m \u001b[0mfcpl\u001b[0m\u001b[0;34m=\u001b[0m\u001b[0mfcpl\u001b[0m\u001b[0;34m)\u001b[0m\u001b[0;34m\u001b[0m\u001b[0;34m\u001b[0m\u001b[0m\n\u001b[0m\u001b[1;32m    180\u001b[0m     \u001b[0;32melif\u001b[0m \u001b[0mmode\u001b[0m \u001b[0;34m==\u001b[0m \u001b[0;34m'a'\u001b[0m\u001b[0;34m:\u001b[0m\u001b[0;34m\u001b[0m\u001b[0;34m\u001b[0m\u001b[0m\n\u001b[1;32m    181\u001b[0m         \u001b[0;31m# Open in append mode (read/write).\u001b[0m\u001b[0;34m\u001b[0m\u001b[0;34m\u001b[0m\u001b[0;34m\u001b[0m\u001b[0m\n",
            "\u001b[0;32mh5py/_objects.pyx\u001b[0m in \u001b[0;36mh5py._objects.with_phil.wrapper\u001b[0;34m()\u001b[0m\n",
            "\u001b[0;32mh5py/_objects.pyx\u001b[0m in \u001b[0;36mh5py._objects.with_phil.wrapper\u001b[0;34m()\u001b[0m\n",
            "\u001b[0;32mh5py/h5f.pyx\u001b[0m in \u001b[0;36mh5py.h5f.create\u001b[0;34m()\u001b[0m\n",
            "\u001b[0;31mOSError\u001b[0m: Unable to create file (unable to open file: name = './results/ae_weights.h5', errno = 2, error message = 'No such file or directory', flags = 13, o_flags = 242)"
          ]
        }
      ]
    },
    {
      "cell_type": "markdown",
      "metadata": {
        "id": "-Ijm5F85RIQE"
      },
      "source": [
        "### Сохранение весов Автоэнкодера"
      ]
    },
    {
      "cell_type": "code",
      "metadata": {
        "id": "3FEftED9QLag"
      },
      "source": [
        "autoencoder.save_weights(save_dir + '/ae_weights.h5')"
      ],
      "execution_count": 10,
      "outputs": []
    },
    {
      "cell_type": "markdown",
      "metadata": {
        "id": "LsArJrOKRNhk"
      },
      "source": [
        "### Загрузка весов автоэкодера"
      ]
    },
    {
      "cell_type": "code",
      "metadata": {
        "id": "BVOAicOeRQ1u"
      },
      "source": [
        "autoencoder.load_weights(save_dir + '/ae_weights.h5')"
      ],
      "execution_count": 40,
      "outputs": []
    },
    {
      "cell_type": "markdown",
      "metadata": {
        "id": "l3M9S-WfRVvo"
      },
      "source": [
        "## Построение модели кластеризации"
      ]
    },
    {
      "cell_type": "markdown",
      "metadata": {
        "id": "pBKSsh1GRdcX"
      },
      "source": [
        "#### Clustering layer"
      ]
    },
    {
      "cell_type": "code",
      "metadata": {
        "id": "ptXmNbBhRaFI"
      },
      "source": [
        "class ClusteringLayer(Layer):\n",
        "    \"\"\"\n",
        "    Слой кластеризации преобразует входные признаки экземпляра к soft label -\n",
        "    вектор, который представляет вероятность экземпляра принадлежать к каждому\n",
        "    из классов. Вероятность вычисляется с помощью распределения Стьюдента.\n",
        "\n",
        "    # Example\n",
        "    ```\n",
        "        model.add(ClusteringLayer(n_clusters=10))\n",
        "    ```\n",
        "    # Arguments\n",
        "        n_clusters: число кластеров.\n",
        "        weights: список Numpy array with shape = (n_clusters, n_features) который\n",
        "                 представляет начальные центры кластеров.\n",
        "        alpha: число степень свободы - параметр распределения Стьюдента.\n",
        "               По умолчанию 1.0.\n",
        "    # Input shape\n",
        "        2D tensor with shape: `(n_samples, n_features)`.\n",
        "    # Output shape\n",
        "        2D tensor with shape: `(n_samples, n_clusters)`.\n",
        "    \"\"\"\n",
        "\n",
        "    def __init__(self, n_clusters, weights=None, alpha=1.0, **kwargs):\n",
        "        if 'input_shape' not in kwargs and 'input_dim' in kwargs:\n",
        "            kwargs['input_shape'] = (kwargs.pop('input_dim'),)\n",
        "        super(ClusteringLayer, self).__init__(**kwargs)\n",
        "        self.n_clusters = n_clusters\n",
        "        self.alpha = alpha\n",
        "        self.initial_weights = weights\n",
        "        self.input_spec = InputSpec(ndim=2) # для проверки совместимости\n",
        "\n",
        "    def build(self, input_shape):\n",
        "        \"\"\"\n",
        "        Определяем веса слоя, в нашем случае 10 кластеров в 10-мерном\n",
        "        пространстве объектов, это 10x10 весовые переменные.\n",
        "        \"\"\"\n",
        "        assert len(input_shape) == 2\n",
        "        input_dim = input_shape[1]\n",
        "        self.input_spec = InputSpec(dtype=K.floatx(), shape=(None, input_dim))\n",
        "        self.clusters = self.add_weight(shape=(self.n_clusters, input_dim),\n",
        "                                initializer='glorot_uniform', name='clusters')\n",
        "        if self.initial_weights is not None:\n",
        "            self.set_weights(self.initial_weights)\n",
        "            del self.initial_weights\n",
        "        self.built = True\n",
        "\n",
        "    def call(self, inputs, **kwargs):\n",
        "        \"\"\"\n",
        "        Распределение Стьюдента, то, которое используется в t-SNE алгоритме.\n",
        "        Измеряет схожесть между встроенной точкой z_i и центроидом µ_j.\n",
        "                 q_ij = 1/(1+dist(x_i, µ_j)^2), нормализует это\n",
        "                 q_ij может интерпретироваться как вероятность назначения \n",
        "                      экземпляру i кластера j. (то есть soft clustering)\n",
        "        Arguments:\n",
        "            inputs: переменная, содержащая данные, shape=(n_samples, n_features)\n",
        "        Return:\n",
        "            q: Распределение стьюдента, or soft labels для каждого экземпляра.\n",
        "               shape=(n_samples, n_clusters)\n",
        "        \"\"\"\n",
        "        q = 1.0 / (1.0 + (K.sum(K.square(K.expand_dims(inputs, axis=1) - \\\n",
        "                                         self.clusters), axis=2) / self.alpha))\n",
        "        q **= (self.alpha + 1.0) / 2.0\n",
        "        q = K.transpose(K.transpose(q) / K.sum(q, axis=1))\n",
        "        return q\n",
        "\n",
        "    def compute_output_shape(self, input_shape):\n",
        "        \"\"\"Логика преобразования формы от входной формы к выходной.\"\"\"\n",
        "        assert input_shape and len(input_shape) == 2\n",
        "        return input_shape[0], self.n_clusters\n",
        "\n",
        "    def get_config(self):\n",
        "        config = {'n_clusters': self.n_clusters}\n",
        "        base_config = super(ClusteringLayer, self).get_config()\n",
        "        return dict(list(base_config.items()) + list(config.items()))"
      ],
      "execution_count": 41,
      "outputs": []
    },
    {
      "cell_type": "markdown",
      "metadata": {
        "id": "vcO_fD6vlUGs"
      },
      "source": [
        "#### Итоговая модель кластеризации"
      ]
    },
    {
      "cell_type": "code",
      "metadata": {
        "id": "55eF6-Xijofr"
      },
      "source": [
        "clustering_layer = ClusteringLayer(n_clusters, name='clustering')(encoder.output)\n",
        "model = Model(inputs=encoder.input, outputs=clustering_layer)\n",
        "model.compile(optimizer=SGD(0.01, 0.9), loss='kld')"
      ],
      "execution_count": 42,
      "outputs": []
    },
    {
      "cell_type": "markdown",
      "metadata": {
        "id": "iON92qlflYbW"
      },
      "source": [
        "#### Рисуем модель кластеризации"
      ]
    },
    {
      "cell_type": "code",
      "metadata": {
        "id": "GfuW6ogWlYzn",
        "outputId": "32cb0071-c621-4de1-ba2c-591336f5ba86",
        "colab": {
          "base_uri": "https://localhost:8080/",
          "height": 644
        }
      },
      "source": [
        "from keras.utils import plot_model\n",
        "plot_model(model, to_file='model.png', show_shapes=True)\n",
        "from IPython.display import Image\n",
        "Image(filename='model.png') "
      ],
      "execution_count": 13,
      "outputs": [
        {
          "output_type": "execute_result",
          "data": {
            "image/png": "[encoded data removed]",
            "text/plain": [
              "<IPython.core.display.Image object>"
            ]
          },
          "metadata": {
            "tags": []
          },
          "execution_count": 13
        }
      ]
    },
    {
      "cell_type": "markdown",
      "metadata": {
        "id": "eQzQdVqrm3kG"
      },
      "source": [
        "#### Step 1: инициализация центров кластеров, используя K-Means\n",
        "\n"
      ]
    },
    {
      "cell_type": "code",
      "metadata": {
        "id": "a3lf6YyKmeHx"
      },
      "source": [
        "kmeans = KMeans(n_clusters=n_clusters, n_init=20)\n",
        "y_pred = kmeans.fit_predict(encoder.predict(x))\n",
        "y_pred_last = np.copy(y_pred)\n",
        "model.get_layer(name='clustering').set_weights([kmeans.cluster_centers_])"
      ],
      "execution_count": 43,
      "outputs": []
    },
    {
      "cell_type": "markdown",
      "metadata": {
        "id": "Siu0pe9rnWbo"
      },
      "source": [
        "#### Step 2: глубинная кластеризация\n",
        "Вычислите p_i, сначала возведя q_i во вторую степень, а затем нормализуя по частоте для каждого кластера:\n",
        "\n"
      ]
    },
    {
      "cell_type": "code",
      "metadata": {
        "id": "Wp8ziQAwmzqZ"
      },
      "source": [
        "# Вычисление вспомогательного целевого распределения\n",
        "def target_distribution(q):\n",
        "    weight = q ** 2 / q.sum(0)\n",
        "    return (weight.T / weight.sum(1)).T"
      ],
      "execution_count": 44,
      "outputs": []
    },
    {
      "cell_type": "code",
      "metadata": {
        "id": "uWYXe0UNn2qB"
      },
      "source": [
        "loss = 0\n",
        "index = 0\n",
        "maxiter = 8000\n",
        "update_interval = 140\n",
        "index_array = np.arange(x.shape[0])"
      ],
      "execution_count": 45,
      "outputs": []
    },
    {
      "cell_type": "code",
      "metadata": {
        "id": "_4-5TA2pn6oD"
      },
      "source": [
        "tol = 0.001 # Порог толерантности к прекращению тренировки"
      ],
      "execution_count": 46,
      "outputs": []
    },
    {
      "cell_type": "markdown",
      "metadata": {
        "id": "3QL_8BcZoHNd"
      },
      "source": [
        "### Тренировка модели кластеризации"
      ]
    },
    {
      "cell_type": "code",
      "metadata": {
        "id": "iuAfTFESoF8b",
        "outputId": "8110f0ef-eb8c-4a79-9b9c-e269b0410d40",
        "colab": {
          "base_uri": "https://localhost:8080/"
        }
      },
      "source": [
        "for ite in range(int(maxiter)):\n",
        "    if ite % update_interval == 0:\n",
        "        q = model.predict(x, verbose=0)\n",
        "        p = target_distribution(q)  # обновление вспомогательного\n",
        "                                    # целевого распределения p\n",
        "\n",
        "        # оценка производительности кластеризации\n",
        "        y_pred = q.argmax(1)\n",
        "        if y is not None:\n",
        "            acc_val = np.round(acc(y, y_pred), 5)\n",
        "            nmi_val = np.round(nmi(y, y_pred), 5)\n",
        "            ari_val = np.round(ari(y, y_pred), 5)\n",
        "            loss_val = np.round(loss, 5)\n",
        "            print('Iter %d: acc = %.5f, nmi = %.5f, ari = %.5f' %\\\n",
        "                  (ite, acc_val, nmi_val, ari_val), ' ; loss=', loss_val)\n",
        "\n",
        "        # проверка критерия остановки - сходимость модели\n",
        "        delta_label = np.sum(y_pred != y_pred_last).astype(np.float32) / y_pred.shape[0]\n",
        "        y_pred_last = np.copy(y_pred)\n",
        "        if ite > 0 and delta_label < tol:\n",
        "            print('delta_label ', delta_label, '< tol ', tol)\n",
        "            print('Достигнут порог толерантности. Остановка тренировки.')\n",
        "            break\n",
        "    idx = index_array[index * batch_size: min((index+1) * batch_size, x.shape[0])]\n",
        "    loss = model.train_on_batch(x=x[idx], y=p[idx])\n",
        "    index = index + 1 if (index + 1) * batch_size <= x.shape[0] else 0\n",
        "\n",
        "model.save_weights(save_dir + '/model_final.h5')"
      ],
      "execution_count": 47,
      "outputs": [
        {
          "output_type": "stream",
          "text": [
            "/usr/local/lib/python3.6/dist-packages/sklearn/utils/linear_assignment_.py:128: FutureWarning: The linear_assignment function is deprecated in 0.21 and will be removed from 0.23. Use scipy.optimize.linear_sum_assignment instead.\n",
            "  FutureWarning)\n"
          ],
          "name": "stderr"
        },
        {
          "output_type": "stream",
          "text": [
            "Iter 0: acc = 0.86137, nmi = 0.79257, ari = 0.75810  ; loss= 0\n"
          ],
          "name": "stdout"
        },
        {
          "output_type": "stream",
          "text": [
            "/usr/local/lib/python3.6/dist-packages/sklearn/utils/linear_assignment_.py:128: FutureWarning: The linear_assignment function is deprecated in 0.21 and will be removed from 0.23. Use scipy.optimize.linear_sum_assignment instead.\n",
            "  FutureWarning)\n"
          ],
          "name": "stderr"
        },
        {
          "output_type": "stream",
          "text": [
            "Iter 140: acc = 0.86763, nmi = 0.79790, ari = 0.76900  ; loss= 0.04484\n"
          ],
          "name": "stdout"
        },
        {
          "output_type": "stream",
          "text": [
            "/usr/local/lib/python3.6/dist-packages/sklearn/utils/linear_assignment_.py:128: FutureWarning: The linear_assignment function is deprecated in 0.21 and will be removed from 0.23. Use scipy.optimize.linear_sum_assignment instead.\n",
            "  FutureWarning)\n"
          ],
          "name": "stderr"
        },
        {
          "output_type": "stream",
          "text": [
            "Iter 280: acc = 0.87390, nmi = 0.80987, ari = 0.78353  ; loss= 0.15314\n"
          ],
          "name": "stdout"
        },
        {
          "output_type": "stream",
          "text": [
            "/usr/local/lib/python3.6/dist-packages/sklearn/utils/linear_assignment_.py:128: FutureWarning: The linear_assignment function is deprecated in 0.21 and will be removed from 0.23. Use scipy.optimize.linear_sum_assignment instead.\n",
            "  FutureWarning)\n"
          ],
          "name": "stderr"
        },
        {
          "output_type": "stream",
          "text": [
            "Iter 420: acc = 0.87784, nmi = 0.82017, ari = 0.79409  ; loss= 0.20395\n"
          ],
          "name": "stdout"
        },
        {
          "output_type": "stream",
          "text": [
            "/usr/local/lib/python3.6/dist-packages/sklearn/utils/linear_assignment_.py:128: FutureWarning: The linear_assignment function is deprecated in 0.21 and will be removed from 0.23. Use scipy.optimize.linear_sum_assignment instead.\n",
            "  FutureWarning)\n"
          ],
          "name": "stderr"
        },
        {
          "output_type": "stream",
          "text": [
            "Iter 560: acc = 0.88131, nmi = 0.82760, ari = 0.80210  ; loss= 0.21714\n"
          ],
          "name": "stdout"
        },
        {
          "output_type": "stream",
          "text": [
            "/usr/local/lib/python3.6/dist-packages/sklearn/utils/linear_assignment_.py:128: FutureWarning: The linear_assignment function is deprecated in 0.21 and will be removed from 0.23. Use scipy.optimize.linear_sum_assignment instead.\n",
            "  FutureWarning)\n"
          ],
          "name": "stderr"
        },
        {
          "output_type": "stream",
          "text": [
            "Iter 700: acc = 0.88304, nmi = 0.83283, ari = 0.80748  ; loss= 0.21388\n"
          ],
          "name": "stdout"
        },
        {
          "output_type": "stream",
          "text": [
            "/usr/local/lib/python3.6/dist-packages/sklearn/utils/linear_assignment_.py:128: FutureWarning: The linear_assignment function is deprecated in 0.21 and will be removed from 0.23. Use scipy.optimize.linear_sum_assignment instead.\n",
            "  FutureWarning)\n"
          ],
          "name": "stderr"
        },
        {
          "output_type": "stream",
          "text": [
            "Iter 840: acc = 0.88479, nmi = 0.83620, ari = 0.81095  ; loss= 0.208\n"
          ],
          "name": "stdout"
        },
        {
          "output_type": "stream",
          "text": [
            "/usr/local/lib/python3.6/dist-packages/sklearn/utils/linear_assignment_.py:128: FutureWarning: The linear_assignment function is deprecated in 0.21 and will be removed from 0.23. Use scipy.optimize.linear_sum_assignment instead.\n",
            "  FutureWarning)\n"
          ],
          "name": "stderr"
        },
        {
          "output_type": "stream",
          "text": [
            "Iter 980: acc = 0.88546, nmi = 0.83879, ari = 0.81359  ; loss= 0.2055\n"
          ],
          "name": "stdout"
        },
        {
          "output_type": "stream",
          "text": [
            "/usr/local/lib/python3.6/dist-packages/sklearn/utils/linear_assignment_.py:128: FutureWarning: The linear_assignment function is deprecated in 0.21 and will be removed from 0.23. Use scipy.optimize.linear_sum_assignment instead.\n",
            "  FutureWarning)\n"
          ],
          "name": "stderr"
        },
        {
          "output_type": "stream",
          "text": [
            "Iter 1120: acc = 0.88666, nmi = 0.84146, ari = 0.81648  ; loss= 0.19908\n"
          ],
          "name": "stdout"
        },
        {
          "output_type": "stream",
          "text": [
            "/usr/local/lib/python3.6/dist-packages/sklearn/utils/linear_assignment_.py:128: FutureWarning: The linear_assignment function is deprecated in 0.21 and will be removed from 0.23. Use scipy.optimize.linear_sum_assignment instead.\n",
            "  FutureWarning)\n"
          ],
          "name": "stderr"
        },
        {
          "output_type": "stream",
          "text": [
            "Iter 1260: acc = 0.88676, nmi = 0.84297, ari = 0.81780  ; loss= 0.19863\n"
          ],
          "name": "stdout"
        },
        {
          "output_type": "stream",
          "text": [
            "/usr/local/lib/python3.6/dist-packages/sklearn/utils/linear_assignment_.py:128: FutureWarning: The linear_assignment function is deprecated in 0.21 and will be removed from 0.23. Use scipy.optimize.linear_sum_assignment instead.\n",
            "  FutureWarning)\n"
          ],
          "name": "stderr"
        },
        {
          "output_type": "stream",
          "text": [
            "Iter 1400: acc = 0.88750, nmi = 0.84449, ari = 0.81952  ; loss= 0.19402\n"
          ],
          "name": "stdout"
        },
        {
          "output_type": "stream",
          "text": [
            "/usr/local/lib/python3.6/dist-packages/sklearn/utils/linear_assignment_.py:128: FutureWarning: The linear_assignment function is deprecated in 0.21 and will be removed from 0.23. Use scipy.optimize.linear_sum_assignment instead.\n",
            "  FutureWarning)\n"
          ],
          "name": "stderr"
        },
        {
          "output_type": "stream",
          "text": [
            "Iter 1540: acc = 0.88729, nmi = 0.84480, ari = 0.81939  ; loss= 0.18209\n"
          ],
          "name": "stdout"
        },
        {
          "output_type": "stream",
          "text": [
            "/usr/local/lib/python3.6/dist-packages/sklearn/utils/linear_assignment_.py:128: FutureWarning: The linear_assignment function is deprecated in 0.21 and will be removed from 0.23. Use scipy.optimize.linear_sum_assignment instead.\n",
            "  FutureWarning)\n"
          ],
          "name": "stderr"
        },
        {
          "output_type": "stream",
          "text": [
            "Iter 1680: acc = 0.88761, nmi = 0.84551, ari = 0.82027  ; loss= 0.17434\n"
          ],
          "name": "stdout"
        },
        {
          "output_type": "stream",
          "text": [
            "/usr/local/lib/python3.6/dist-packages/sklearn/utils/linear_assignment_.py:128: FutureWarning: The linear_assignment function is deprecated in 0.21 and will be removed from 0.23. Use scipy.optimize.linear_sum_assignment instead.\n",
            "  FutureWarning)\n"
          ],
          "name": "stderr"
        },
        {
          "output_type": "stream",
          "text": [
            "Iter 1820: acc = 0.88774, nmi = 0.84644, ari = 0.82097  ; loss= 0.18337\n"
          ],
          "name": "stdout"
        },
        {
          "output_type": "stream",
          "text": [
            "/usr/local/lib/python3.6/dist-packages/sklearn/utils/linear_assignment_.py:128: FutureWarning: The linear_assignment function is deprecated in 0.21 and will be removed from 0.23. Use scipy.optimize.linear_sum_assignment instead.\n",
            "  FutureWarning)\n"
          ],
          "name": "stderr"
        },
        {
          "output_type": "stream",
          "text": [
            "Iter 1960: acc = 0.88751, nmi = 0.84687, ari = 0.82127  ; loss= 0.16927\n"
          ],
          "name": "stdout"
        },
        {
          "output_type": "stream",
          "text": [
            "/usr/local/lib/python3.6/dist-packages/sklearn/utils/linear_assignment_.py:128: FutureWarning: The linear_assignment function is deprecated in 0.21 and will be removed from 0.23. Use scipy.optimize.linear_sum_assignment instead.\n",
            "  FutureWarning)\n"
          ],
          "name": "stderr"
        },
        {
          "output_type": "stream",
          "text": [
            "Iter 2100: acc = 0.88754, nmi = 0.84755, ari = 0.82177  ; loss= 0.17068\n"
          ],
          "name": "stdout"
        },
        {
          "output_type": "stream",
          "text": [
            "/usr/local/lib/python3.6/dist-packages/sklearn/utils/linear_assignment_.py:128: FutureWarning: The linear_assignment function is deprecated in 0.21 and will be removed from 0.23. Use scipy.optimize.linear_sum_assignment instead.\n",
            "  FutureWarning)\n"
          ],
          "name": "stderr"
        },
        {
          "output_type": "stream",
          "text": [
            "Iter 2240: acc = 0.88736, nmi = 0.84761, ari = 0.82179  ; loss= 0.16879\n"
          ],
          "name": "stdout"
        },
        {
          "output_type": "stream",
          "text": [
            "/usr/local/lib/python3.6/dist-packages/sklearn/utils/linear_assignment_.py:128: FutureWarning: The linear_assignment function is deprecated in 0.21 and will be removed from 0.23. Use scipy.optimize.linear_sum_assignment instead.\n",
            "  FutureWarning)\n"
          ],
          "name": "stderr"
        },
        {
          "output_type": "stream",
          "text": [
            "Iter 2380: acc = 0.88721, nmi = 0.84774, ari = 0.82170  ; loss= 0.16489\n"
          ],
          "name": "stdout"
        },
        {
          "output_type": "stream",
          "text": [
            "/usr/local/lib/python3.6/dist-packages/sklearn/utils/linear_assignment_.py:128: FutureWarning: The linear_assignment function is deprecated in 0.21 and will be removed from 0.23. Use scipy.optimize.linear_sum_assignment instead.\n",
            "  FutureWarning)\n"
          ],
          "name": "stderr"
        },
        {
          "output_type": "stream",
          "text": [
            "Iter 2520: acc = 0.88707, nmi = 0.84783, ari = 0.82187  ; loss= 0.16158\n"
          ],
          "name": "stdout"
        },
        {
          "output_type": "stream",
          "text": [
            "/usr/local/lib/python3.6/dist-packages/sklearn/utils/linear_assignment_.py:128: FutureWarning: The linear_assignment function is deprecated in 0.21 and will be removed from 0.23. Use scipy.optimize.linear_sum_assignment instead.\n",
            "  FutureWarning)\n"
          ],
          "name": "stderr"
        },
        {
          "output_type": "stream",
          "text": [
            "Iter 2660: acc = 0.88704, nmi = 0.84820, ari = 0.82197  ; loss= 0.16902\n"
          ],
          "name": "stdout"
        },
        {
          "output_type": "stream",
          "text": [
            "/usr/local/lib/python3.6/dist-packages/sklearn/utils/linear_assignment_.py:128: FutureWarning: The linear_assignment function is deprecated in 0.21 and will be removed from 0.23. Use scipy.optimize.linear_sum_assignment instead.\n",
            "  FutureWarning)\n"
          ],
          "name": "stderr"
        },
        {
          "output_type": "stream",
          "text": [
            "Iter 2800: acc = 0.88719, nmi = 0.84878, ari = 0.82247  ; loss= 0.15932\n"
          ],
          "name": "stdout"
        },
        {
          "output_type": "stream",
          "text": [
            "/usr/local/lib/python3.6/dist-packages/sklearn/utils/linear_assignment_.py:128: FutureWarning: The linear_assignment function is deprecated in 0.21 and will be removed from 0.23. Use scipy.optimize.linear_sum_assignment instead.\n",
            "  FutureWarning)\n"
          ],
          "name": "stderr"
        },
        {
          "output_type": "stream",
          "text": [
            "Iter 2940: acc = 0.88690, nmi = 0.84850, ari = 0.82188  ; loss= 0.14844\n"
          ],
          "name": "stdout"
        },
        {
          "output_type": "stream",
          "text": [
            "/usr/local/lib/python3.6/dist-packages/sklearn/utils/linear_assignment_.py:128: FutureWarning: The linear_assignment function is deprecated in 0.21 and will be removed from 0.23. Use scipy.optimize.linear_sum_assignment instead.\n",
            "  FutureWarning)\n"
          ],
          "name": "stderr"
        },
        {
          "output_type": "stream",
          "text": [
            "Iter 3080: acc = 0.88706, nmi = 0.84900, ari = 0.82245  ; loss= 0.15071\n"
          ],
          "name": "stdout"
        },
        {
          "output_type": "stream",
          "text": [
            "/usr/local/lib/python3.6/dist-packages/sklearn/utils/linear_assignment_.py:128: FutureWarning: The linear_assignment function is deprecated in 0.21 and will be removed from 0.23. Use scipy.optimize.linear_sum_assignment instead.\n",
            "  FutureWarning)\n"
          ],
          "name": "stderr"
        },
        {
          "output_type": "stream",
          "text": [
            "Iter 3220: acc = 0.88689, nmi = 0.84891, ari = 0.82214  ; loss= 0.14264\n"
          ],
          "name": "stdout"
        },
        {
          "output_type": "stream",
          "text": [
            "/usr/local/lib/python3.6/dist-packages/sklearn/utils/linear_assignment_.py:128: FutureWarning: The linear_assignment function is deprecated in 0.21 and will be removed from 0.23. Use scipy.optimize.linear_sum_assignment instead.\n",
            "  FutureWarning)\n"
          ],
          "name": "stderr"
        },
        {
          "output_type": "stream",
          "text": [
            "Iter 3360: acc = 0.88699, nmi = 0.84908, ari = 0.82243  ; loss= 0.14161\n"
          ],
          "name": "stdout"
        },
        {
          "output_type": "stream",
          "text": [
            "/usr/local/lib/python3.6/dist-packages/sklearn/utils/linear_assignment_.py:128: FutureWarning: The linear_assignment function is deprecated in 0.21 and will be removed from 0.23. Use scipy.optimize.linear_sum_assignment instead.\n",
            "  FutureWarning)\n"
          ],
          "name": "stderr"
        },
        {
          "output_type": "stream",
          "text": [
            "Iter 3500: acc = 0.88661, nmi = 0.84891, ari = 0.82187  ; loss= 0.14135\n"
          ],
          "name": "stdout"
        },
        {
          "output_type": "stream",
          "text": [
            "/usr/local/lib/python3.6/dist-packages/sklearn/utils/linear_assignment_.py:128: FutureWarning: The linear_assignment function is deprecated in 0.21 and will be removed from 0.23. Use scipy.optimize.linear_sum_assignment instead.\n",
            "  FutureWarning)\n"
          ],
          "name": "stderr"
        },
        {
          "output_type": "stream",
          "text": [
            "Iter 3640: acc = 0.88674, nmi = 0.84904, ari = 0.82208  ; loss= 0.13747\n"
          ],
          "name": "stdout"
        },
        {
          "output_type": "stream",
          "text": [
            "/usr/local/lib/python3.6/dist-packages/sklearn/utils/linear_assignment_.py:128: FutureWarning: The linear_assignment function is deprecated in 0.21 and will be removed from 0.23. Use scipy.optimize.linear_sum_assignment instead.\n",
            "  FutureWarning)\n"
          ],
          "name": "stderr"
        },
        {
          "output_type": "stream",
          "text": [
            "Iter 3780: acc = 0.88696, nmi = 0.84961, ari = 0.82240  ; loss= 0.13114\n"
          ],
          "name": "stdout"
        },
        {
          "output_type": "stream",
          "text": [
            "/usr/local/lib/python3.6/dist-packages/sklearn/utils/linear_assignment_.py:128: FutureWarning: The linear_assignment function is deprecated in 0.21 and will be removed from 0.23. Use scipy.optimize.linear_sum_assignment instead.\n",
            "  FutureWarning)\n"
          ],
          "name": "stderr"
        },
        {
          "output_type": "stream",
          "text": [
            "Iter 3920: acc = 0.88687, nmi = 0.84948, ari = 0.82233  ; loss= 0.13672\n"
          ],
          "name": "stdout"
        },
        {
          "output_type": "stream",
          "text": [
            "/usr/local/lib/python3.6/dist-packages/sklearn/utils/linear_assignment_.py:128: FutureWarning: The linear_assignment function is deprecated in 0.21 and will be removed from 0.23. Use scipy.optimize.linear_sum_assignment instead.\n",
            "  FutureWarning)\n"
          ],
          "name": "stderr"
        },
        {
          "output_type": "stream",
          "text": [
            "Iter 4060: acc = 0.88687, nmi = 0.84976, ari = 0.82239  ; loss= 0.13412\n"
          ],
          "name": "stdout"
        },
        {
          "output_type": "stream",
          "text": [
            "/usr/local/lib/python3.6/dist-packages/sklearn/utils/linear_assignment_.py:128: FutureWarning: The linear_assignment function is deprecated in 0.21 and will be removed from 0.23. Use scipy.optimize.linear_sum_assignment instead.\n",
            "  FutureWarning)\n"
          ],
          "name": "stderr"
        },
        {
          "output_type": "stream",
          "text": [
            "Iter 4200: acc = 0.88690, nmi = 0.84982, ari = 0.82259  ; loss= 0.12441\n"
          ],
          "name": "stdout"
        },
        {
          "output_type": "stream",
          "text": [
            "/usr/local/lib/python3.6/dist-packages/sklearn/utils/linear_assignment_.py:128: FutureWarning: The linear_assignment function is deprecated in 0.21 and will be removed from 0.23. Use scipy.optimize.linear_sum_assignment instead.\n",
            "  FutureWarning)\n"
          ],
          "name": "stderr"
        },
        {
          "output_type": "stream",
          "text": [
            "Iter 4340: acc = 0.88680, nmi = 0.84996, ari = 0.82264  ; loss= 0.12853\n"
          ],
          "name": "stdout"
        },
        {
          "output_type": "stream",
          "text": [
            "/usr/local/lib/python3.6/dist-packages/sklearn/utils/linear_assignment_.py:128: FutureWarning: The linear_assignment function is deprecated in 0.21 and will be removed from 0.23. Use scipy.optimize.linear_sum_assignment instead.\n",
            "  FutureWarning)\n"
          ],
          "name": "stderr"
        },
        {
          "output_type": "stream",
          "text": [
            "Iter 4480: acc = 0.88690, nmi = 0.85003, ari = 0.82274  ; loss= 0.12687\n"
          ],
          "name": "stdout"
        },
        {
          "output_type": "stream",
          "text": [
            "/usr/local/lib/python3.6/dist-packages/sklearn/utils/linear_assignment_.py:128: FutureWarning: The linear_assignment function is deprecated in 0.21 and will be removed from 0.23. Use scipy.optimize.linear_sum_assignment instead.\n",
            "  FutureWarning)\n"
          ],
          "name": "stderr"
        },
        {
          "output_type": "stream",
          "text": [
            "Iter 4620: acc = 0.88697, nmi = 0.85025, ari = 0.82296  ; loss= 0.12371\n"
          ],
          "name": "stdout"
        },
        {
          "output_type": "stream",
          "text": [
            "/usr/local/lib/python3.6/dist-packages/sklearn/utils/linear_assignment_.py:128: FutureWarning: The linear_assignment function is deprecated in 0.21 and will be removed from 0.23. Use scipy.optimize.linear_sum_assignment instead.\n",
            "  FutureWarning)\n"
          ],
          "name": "stderr"
        },
        {
          "output_type": "stream",
          "text": [
            "Iter 4760: acc = 0.88701, nmi = 0.85039, ari = 0.82317  ; loss= 0.12666\n"
          ],
          "name": "stdout"
        },
        {
          "output_type": "stream",
          "text": [
            "/usr/local/lib/python3.6/dist-packages/sklearn/utils/linear_assignment_.py:128: FutureWarning: The linear_assignment function is deprecated in 0.21 and will be removed from 0.23. Use scipy.optimize.linear_sum_assignment instead.\n",
            "  FutureWarning)\n"
          ],
          "name": "stderr"
        },
        {
          "output_type": "stream",
          "text": [
            "Iter 4900: acc = 0.88690, nmi = 0.85016, ari = 0.82288  ; loss= 0.12619\n"
          ],
          "name": "stdout"
        },
        {
          "output_type": "stream",
          "text": [
            "/usr/local/lib/python3.6/dist-packages/sklearn/utils/linear_assignment_.py:128: FutureWarning: The linear_assignment function is deprecated in 0.21 and will be removed from 0.23. Use scipy.optimize.linear_sum_assignment instead.\n",
            "  FutureWarning)\n"
          ],
          "name": "stderr"
        },
        {
          "output_type": "stream",
          "text": [
            "Iter 5040: acc = 0.88699, nmi = 0.85020, ari = 0.82307  ; loss= 0.12215\n"
          ],
          "name": "stdout"
        },
        {
          "output_type": "stream",
          "text": [
            "/usr/local/lib/python3.6/dist-packages/sklearn/utils/linear_assignment_.py:128: FutureWarning: The linear_assignment function is deprecated in 0.21 and will be removed from 0.23. Use scipy.optimize.linear_sum_assignment instead.\n",
            "  FutureWarning)\n"
          ],
          "name": "stderr"
        },
        {
          "output_type": "stream",
          "text": [
            "Iter 5180: acc = 0.88684, nmi = 0.85019, ari = 0.82294  ; loss= 0.11936\n"
          ],
          "name": "stdout"
        },
        {
          "output_type": "stream",
          "text": [
            "/usr/local/lib/python3.6/dist-packages/sklearn/utils/linear_assignment_.py:128: FutureWarning: The linear_assignment function is deprecated in 0.21 and will be removed from 0.23. Use scipy.optimize.linear_sum_assignment instead.\n",
            "  FutureWarning)\n"
          ],
          "name": "stderr"
        },
        {
          "output_type": "stream",
          "text": [
            "Iter 5320: acc = 0.88706, nmi = 0.85054, ari = 0.82336  ; loss= 0.12307\n"
          ],
          "name": "stdout"
        },
        {
          "output_type": "stream",
          "text": [
            "/usr/local/lib/python3.6/dist-packages/sklearn/utils/linear_assignment_.py:128: FutureWarning: The linear_assignment function is deprecated in 0.21 and will be removed from 0.23. Use scipy.optimize.linear_sum_assignment instead.\n",
            "  FutureWarning)\n"
          ],
          "name": "stderr"
        },
        {
          "output_type": "stream",
          "text": [
            "Iter 5460: acc = 0.88706, nmi = 0.85066, ari = 0.82347  ; loss= 0.11996\n"
          ],
          "name": "stdout"
        },
        {
          "output_type": "stream",
          "text": [
            "/usr/local/lib/python3.6/dist-packages/sklearn/utils/linear_assignment_.py:128: FutureWarning: The linear_assignment function is deprecated in 0.21 and will be removed from 0.23. Use scipy.optimize.linear_sum_assignment instead.\n",
            "  FutureWarning)\n"
          ],
          "name": "stderr"
        },
        {
          "output_type": "stream",
          "text": [
            "Iter 5600: acc = 0.88703, nmi = 0.85061, ari = 0.82335  ; loss= 0.12361\n"
          ],
          "name": "stdout"
        },
        {
          "output_type": "stream",
          "text": [
            "/usr/local/lib/python3.6/dist-packages/sklearn/utils/linear_assignment_.py:128: FutureWarning: The linear_assignment function is deprecated in 0.21 and will be removed from 0.23. Use scipy.optimize.linear_sum_assignment instead.\n",
            "  FutureWarning)\n"
          ],
          "name": "stderr"
        },
        {
          "output_type": "stream",
          "text": [
            "Iter 5740: acc = 0.88699, nmi = 0.85059, ari = 0.82333  ; loss= 0.10911\n",
            "Iter 5880: acc = 0.88700, nmi = 0.85068, ari = 0.82335  ; loss= 0.11851\n",
            "delta_label  0.0009714285714285714 < tol  0.001\n",
            "Достигнут порог толерантности. Остановка тренировки.\n"
          ],
          "name": "stdout"
        },
        {
          "output_type": "stream",
          "text": [
            "/usr/local/lib/python3.6/dist-packages/sklearn/utils/linear_assignment_.py:128: FutureWarning: The linear_assignment function is deprecated in 0.21 and will be removed from 0.23. Use scipy.optimize.linear_sum_assignment instead.\n",
            "  FutureWarning)\n"
          ],
          "name": "stderr"
        }
      ]
    },
    {
      "cell_type": "markdown",
      "metadata": {
        "id": "6t6Nyc5Sq41v"
      },
      "source": [
        "### Загрузка весов итоговой модели"
      ]
    },
    {
      "cell_type": "code",
      "metadata": {
        "id": "fsTmU4ZMpv6h"
      },
      "source": [
        "model.load_weights(save_dir + '/model_final.h5')"
      ],
      "execution_count": 29,
      "outputs": []
    },
    {
      "cell_type": "markdown",
      "metadata": {
        "id": "Ri9eFOCGrahg"
      },
      "source": [
        "### Оценка итоговой модели"
      ]
    },
    {
      "cell_type": "code",
      "metadata": {
        "id": "70KC_bvWq3x1",
        "outputId": "ea27e333-8742-46f1-af1b-3724ceebb7f7",
        "colab": {
          "base_uri": "https://localhost:8080/"
        }
      },
      "source": [
        "q = model.predict(x, verbose=0)\n",
        "p = target_distribution(q)   # обновление вспомогательного целевого распределения p\n",
        "\n",
        "# оценка производительности кластеризации\n",
        "y_pred = q.argmax(1)\n",
        "if y is not None:\n",
        "    acc_val = np.round(acc(y, y_pred), 5)\n",
        "    nmi_val = np.round(nmi(y, y_pred), 5)\n",
        "    ari_val = np.round(ari(y, y_pred), 5)\n",
        "    loss_val = np.round(loss, 5)\n",
        "    print('acc = %.5f, nmi = %.5f, ari = %.5f' % (acc_val, nmi_val, ari_val),\n",
        "          ' ; loss=', loss_val)"
      ],
      "execution_count": 48,
      "outputs": [
        {
          "output_type": "stream",
          "text": [
            "acc = 0.88700, nmi = 0.85068, ari = 0.82335  ; loss= 0.11851\n"
          ],
          "name": "stdout"
        },
        {
          "output_type": "stream",
          "text": [
            "/usr/local/lib/python3.6/dist-packages/sklearn/utils/linear_assignment_.py:128: FutureWarning: The linear_assignment function is deprecated in 0.21 and will be removed from 0.23. Use scipy.optimize.linear_sum_assignment instead.\n",
            "  FutureWarning)\n"
          ],
          "name": "stderr"
        }
      ]
    },
    {
      "cell_type": "code",
      "metadata": {
        "id": "TOvYuhA_ro5u",
        "outputId": "ae9c09a6-60b3-4986-fdea-a118f2dcd9c3",
        "colab": {
          "base_uri": "https://localhost:8080/",
          "height": 891
        }
      },
      "source": [
        "import seaborn as sns\n",
        "import sklearn.metrics\n",
        "import matplotlib.pyplot as plt\n",
        "sns.set(font_scale=3)\n",
        "confusion_matrix = sklearn.metrics.confusion_matrix(y, y_pred)\n",
        "\n",
        "plt.figure(figsize=(16, 14))\n",
        "sns.heatmap(confusion_matrix, annot=True, fmt=\"d\", annot_kws={\"size\": 20});\n",
        "plt.title(\"Confusion matrix\", fontsize=30)\n",
        "plt.ylabel('True label', fontsize=25)\n",
        "plt.xlabel('Clustering label', fontsize=25)\n",
        "plt.show()"
      ],
      "execution_count": 49,
      "outputs": [
        {
          "output_type": "display_data",
          "data": {
            "image/png": "[encoded data removed]",
            "text/plain": [
              "<Figure size 1152x1008 with 2 Axes>"
            ]
          },
          "metadata": {
            "tags": []
          }
        }
      ]
    },
    {
      "cell_type": "code",
      "metadata": {
        "id": "mq_g_RTutV6f"
      },
      "source": [
        ""
      ],
      "execution_count": null,
      "outputs": []
    }
  ]
}